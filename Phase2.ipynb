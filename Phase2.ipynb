{
 "cells": [
  {
   "cell_type": "code",
   "execution_count": 3,
   "id": "initial_id",
   "metadata": {
    "ExecuteTime": {
     "end_time": "2025-01-27T06:34:45.785601Z",
     "start_time": "2025-01-27T06:34:45.603427Z"
    },
    "collapsed": true
   },
   "outputs": [],
   "source": [
    "# Import necessary libraries\n",
    "import pandas as pd\n",
    "import numpy as np\n",
    "from sklearn.preprocessing import MinMaxScaler, OneHotEncoder\n",
    "from sklearn.cluster import KMeans, DBSCAN\n",
    "from sklearn.metrics import silhouette_score\n",
    "import matplotlib.pyplot as plt\n",
    "import seaborn as sns"
   ]
  },
  {
   "cell_type": "markdown",
   "id": "f8ed8294",
   "metadata": {},
   "source": [
    "# Load the dataset"
   ]
  },
  {
   "cell_type": "code",
   "execution_count": 4,
   "id": "6094e4a5aaa0f3bd",
   "metadata": {
    "ExecuteTime": {
     "end_time": "2025-01-27T06:34:46.213341Z",
     "start_time": "2025-01-27T06:34:45.786108Z"
    }
   },
   "outputs": [
    {
     "name": "stdout",
     "output_type": "stream",
     "text": [
      "Dataset Loaded Successfully!\n"
     ]
    },
    {
     "data": {
      "text/html": [
       "<div>\n",
       "<style scoped>\n",
       "    .dataframe tbody tr th:only-of-type {\n",
       "        vertical-align: middle;\n",
       "    }\n",
       "\n",
       "    .dataframe tbody tr th {\n",
       "        vertical-align: top;\n",
       "    }\n",
       "\n",
       "    .dataframe thead th {\n",
       "        text-align: right;\n",
       "    }\n",
       "</style>\n",
       "<table border=\"1\" class=\"dataframe\">\n",
       "  <thead>\n",
       "    <tr style=\"text-align: right;\">\n",
       "      <th></th>\n",
       "      <th>id</th>\n",
       "      <th>title</th>\n",
       "      <th>vote_average</th>\n",
       "      <th>vote_count</th>\n",
       "      <th>status</th>\n",
       "      <th>release_date</th>\n",
       "      <th>revenue</th>\n",
       "      <th>runtime</th>\n",
       "      <th>adult</th>\n",
       "      <th>budget</th>\n",
       "      <th>...</th>\n",
       "      <th>content_complexity</th>\n",
       "      <th>popularity_normalized</th>\n",
       "      <th>runtime_normalized</th>\n",
       "      <th>vote_average_normalized</th>\n",
       "      <th>budget_normalized</th>\n",
       "      <th>revenue_normalized</th>\n",
       "      <th>vote_count_normalized</th>\n",
       "      <th>Year_normalized</th>\n",
       "      <th>vote_count_bins</th>\n",
       "      <th>release_year</th>\n",
       "    </tr>\n",
       "  </thead>\n",
       "  <tbody>\n",
       "    <tr>\n",
       "      <th>0</th>\n",
       "      <td>150540</td>\n",
       "      <td>Inside Out</td>\n",
       "      <td>7.922</td>\n",
       "      <td>19.208098</td>\n",
       "      <td>Released</td>\n",
       "      <td>2015-06-09</td>\n",
       "      <td>8.850803e+07</td>\n",
       "      <td>21.009978</td>\n",
       "      <td>False</td>\n",
       "      <td>1.954684e+07</td>\n",
       "      <td>...</td>\n",
       "      <td>5.0</td>\n",
       "      <td>0.406107</td>\n",
       "      <td>0.212312</td>\n",
       "      <td>1.572179</td>\n",
       "      <td>0.963383</td>\n",
       "      <td>0.970238</td>\n",
       "      <td>0.619616</td>\n",
       "      <td>0.925676</td>\n",
       "      <td>(18.6, 21.7]</td>\n",
       "      <td>2015</td>\n",
       "    </tr>\n",
       "    <tr>\n",
       "      <th>1</th>\n",
       "      <td>14160</td>\n",
       "      <td>Up</td>\n",
       "      <td>7.949</td>\n",
       "      <td>19.208098</td>\n",
       "      <td>Released</td>\n",
       "      <td>2009-05-28</td>\n",
       "      <td>8.850803e+07</td>\n",
       "      <td>21.009978</td>\n",
       "      <td>False</td>\n",
       "      <td>1.954684e+07</td>\n",
       "      <td>...</td>\n",
       "      <td>4.0</td>\n",
       "      <td>0.406107</td>\n",
       "      <td>0.212312</td>\n",
       "      <td>1.580282</td>\n",
       "      <td>0.963383</td>\n",
       "      <td>0.970238</td>\n",
       "      <td>0.619616</td>\n",
       "      <td>0.885135</td>\n",
       "      <td>(18.6, 21.7]</td>\n",
       "      <td>2009</td>\n",
       "    </tr>\n",
       "    <tr>\n",
       "      <th>2</th>\n",
       "      <td>12</td>\n",
       "      <td>Finding Nemo</td>\n",
       "      <td>7.824</td>\n",
       "      <td>19.208098</td>\n",
       "      <td>Released</td>\n",
       "      <td>2003-05-30</td>\n",
       "      <td>8.850803e+07</td>\n",
       "      <td>21.009978</td>\n",
       "      <td>False</td>\n",
       "      <td>1.954684e+07</td>\n",
       "      <td>...</td>\n",
       "      <td>2.0</td>\n",
       "      <td>0.406107</td>\n",
       "      <td>0.212312</td>\n",
       "      <td>1.542766</td>\n",
       "      <td>0.963383</td>\n",
       "      <td>0.970238</td>\n",
       "      <td>0.619616</td>\n",
       "      <td>0.844595</td>\n",
       "      <td>(18.6, 21.7]</td>\n",
       "      <td>2003</td>\n",
       "    </tr>\n",
       "    <tr>\n",
       "      <th>3</th>\n",
       "      <td>354912</td>\n",
       "      <td>Coco</td>\n",
       "      <td>8.222</td>\n",
       "      <td>19.208098</td>\n",
       "      <td>Released</td>\n",
       "      <td>2017-10-27</td>\n",
       "      <td>8.850803e+07</td>\n",
       "      <td>21.009978</td>\n",
       "      <td>False</td>\n",
       "      <td>1.954684e+07</td>\n",
       "      <td>...</td>\n",
       "      <td>6.0</td>\n",
       "      <td>0.406107</td>\n",
       "      <td>0.212312</td>\n",
       "      <td>1.662216</td>\n",
       "      <td>0.963383</td>\n",
       "      <td>0.970238</td>\n",
       "      <td>0.619616</td>\n",
       "      <td>0.939189</td>\n",
       "      <td>(18.6, 21.7]</td>\n",
       "      <td>2017</td>\n",
       "    </tr>\n",
       "    <tr>\n",
       "      <th>4</th>\n",
       "      <td>10681</td>\n",
       "      <td>WALL·E</td>\n",
       "      <td>8.078</td>\n",
       "      <td>19.208098</td>\n",
       "      <td>Released</td>\n",
       "      <td>2008-06-22</td>\n",
       "      <td>8.850803e+07</td>\n",
       "      <td>21.009978</td>\n",
       "      <td>False</td>\n",
       "      <td>1.954684e+07</td>\n",
       "      <td>...</td>\n",
       "      <td>3.0</td>\n",
       "      <td>0.406107</td>\n",
       "      <td>0.212312</td>\n",
       "      <td>1.618998</td>\n",
       "      <td>0.963383</td>\n",
       "      <td>0.970238</td>\n",
       "      <td>0.619616</td>\n",
       "      <td>0.878378</td>\n",
       "      <td>(18.6, 21.7]</td>\n",
       "      <td>2008</td>\n",
       "    </tr>\n",
       "  </tbody>\n",
       "</table>\n",
       "<p>5 rows × 47 columns</p>\n",
       "</div>"
      ],
      "text/plain": [
       "       id         title  vote_average  vote_count    status release_date  \\\n",
       "0  150540    Inside Out         7.922   19.208098  Released   2015-06-09   \n",
       "1   14160            Up         7.949   19.208098  Released   2009-05-28   \n",
       "2      12  Finding Nemo         7.824   19.208098  Released   2003-05-30   \n",
       "3  354912          Coco         8.222   19.208098  Released   2017-10-27   \n",
       "4   10681        WALL·E         8.078   19.208098  Released   2008-06-22   \n",
       "\n",
       "        revenue    runtime  adult        budget  ... content_complexity  \\\n",
       "0  8.850803e+07  21.009978  False  1.954684e+07  ...                5.0   \n",
       "1  8.850803e+07  21.009978  False  1.954684e+07  ...                4.0   \n",
       "2  8.850803e+07  21.009978  False  1.954684e+07  ...                2.0   \n",
       "3  8.850803e+07  21.009978  False  1.954684e+07  ...                6.0   \n",
       "4  8.850803e+07  21.009978  False  1.954684e+07  ...                3.0   \n",
       "\n",
       "  popularity_normalized runtime_normalized  vote_average_normalized  \\\n",
       "0              0.406107           0.212312                 1.572179   \n",
       "1              0.406107           0.212312                 1.580282   \n",
       "2              0.406107           0.212312                 1.542766   \n",
       "3              0.406107           0.212312                 1.662216   \n",
       "4              0.406107           0.212312                 1.618998   \n",
       "\n",
       "  budget_normalized revenue_normalized vote_count_normalized Year_normalized  \\\n",
       "0          0.963383           0.970238              0.619616        0.925676   \n",
       "1          0.963383           0.970238              0.619616        0.885135   \n",
       "2          0.963383           0.970238              0.619616        0.844595   \n",
       "3          0.963383           0.970238              0.619616        0.939189   \n",
       "4          0.963383           0.970238              0.619616        0.878378   \n",
       "\n",
       "   vote_count_bins release_year  \n",
       "0     (18.6, 21.7]         2015  \n",
       "1     (18.6, 21.7]         2009  \n",
       "2     (18.6, 21.7]         2003  \n",
       "3     (18.6, 21.7]         2017  \n",
       "4     (18.6, 21.7]         2008  \n",
       "\n",
       "[5 rows x 47 columns]"
      ]
     },
     "execution_count": 4,
     "metadata": {},
     "output_type": "execute_result"
    }
   ],
   "source": [
    "file_path = \"data/Animation_Movies_After_Phase1.csv\"\n",
    "df = pd.read_csv(file_path)\n",
    "\n",
    "# Display the first few rows of the dataset\n",
    "print(\"Dataset Loaded Successfully!\")\n",
    "df.head()\n"
   ]
  },
  {
   "cell_type": "markdown",
   "id": "ec515e4c76eab37d",
   "metadata": {},
   "source": [
    "# Check for missing values"
   ]
  },
  {
   "cell_type": "code",
   "execution_count": 5,
   "id": "7e9c58502082aad3",
   "metadata": {
    "ExecuteTime": {
     "end_time": "2025-01-27T06:34:46.269285Z",
     "start_time": "2025-01-27T06:34:46.214352Z"
    }
   },
   "outputs": [
    {
     "name": "stdout",
     "output_type": "stream",
     "text": [
      "Missing values in each column:\n",
      "processed_overview    62\n",
      "dtype: int64\n"
     ]
    }
   ],
   "source": [
    "missing_values = df.isnull().sum()\n",
    "print(\"Missing values in each column:\")\n",
    "print(missing_values[missing_values > 0])"
   ]
  },
  {
   "cell_type": "markdown",
   "id": "fdaa7df96ed6ab50",
   "metadata": {},
   "source": [
    "# Features: Genre and content similarity\n",
    "# Features: genres, runtime_normalized, content_complexity\n"
   ]
  },
  {
   "cell_type": "code",
   "execution_count": 6,
   "id": "421259dc6d4efa92",
   "metadata": {
    "ExecuteTime": {
     "end_time": "2025-01-27T06:34:49.116388Z",
     "start_time": "2025-01-27T06:34:46.661580Z"
    }
   },
   "outputs": [
    {
     "name": "stdout",
     "output_type": "stream",
     "text": [
      "Features for genre and content similarity normalized.\n"
     ]
    }
   ],
   "source": [
    "##%% Genre and Content Similarity Features\n",
    "selected_features_genres = ['runtime_normalized', 'content_complexity']\n",
    "\n",
    "# One-Hot Encode 'genres' (categorical feature)\n",
    "onehot_encoder = OneHotEncoder(sparse_output=False)  # Replace sparse with sparse_output\n",
    "encoded_genres = onehot_encoder.fit_transform(df[['genres']])\n",
    "encoded_genres_df = pd.DataFrame(\n",
    "    encoded_genres, columns=onehot_encoder.get_feature_names_out(['genres'])\n",
    ")\n",
    "\n",
    "# Combine numerical features with encoded genres\n",
    "features_genres = pd.concat([df[selected_features_genres], encoded_genres_df], axis=1)\n",
    "\n",
    "# Normalize numerical features\n",
    "scaler = MinMaxScaler()\n",
    "normalized_features_genres = scaler.fit_transform(features_genres)\n",
    "print(\"Features for genre and content similarity normalized.\")"
   ]
  },
  {
   "cell_type": "markdown",
   "id": "9b0b2c1eba96aac2",
   "metadata": {},
   "source": [
    "# Features: Commercial performance and popularity similarity\n",
    "# Features: budget_normalized, revenue_normalized, ROI, popularity_normalized\n"
   ]
  },
  {
   "cell_type": "code",
   "execution_count": 7,
   "id": "f09591fae8fd7f6e",
   "metadata": {
    "ExecuteTime": {
     "end_time": "2025-01-27T06:34:49.123406Z",
     "start_time": "2025-01-27T06:34:49.116900Z"
    }
   },
   "outputs": [
    {
     "name": "stdout",
     "output_type": "stream",
     "text": [
      "Features for commercial and popularity similarity normalized.\n"
     ]
    }
   ],
   "source": [
    "##%% Commercial and Popularity Similarity Features\n",
    "selected_features_commercial = ['budget_normalized', 'revenue_normalized', 'ROI', 'popularity_normalized']\n",
    "\n",
    "# Extract and normalize the features\n",
    "features_commercial = df[selected_features_commercial]\n",
    "normalized_features_commercial = scaler.fit_transform(features_commercial)\n",
    "print(\"Features for commercial and popularity similarity normalized.\")"
   ]
  },
  {
   "cell_type": "markdown",
   "id": "e4afa53eb888ebf",
   "metadata": {},
   "source": [
    "# Features: General combination\n",
    "# Features: genres, popularity_normalized, vote_average_normalized, budget_normalized, runtime_normalized\n"
   ]
  },
  {
   "cell_type": "code",
   "execution_count": 8,
   "id": "c335348f5fa8de9f",
   "metadata": {
    "ExecuteTime": {
     "end_time": "2025-01-27T06:34:51.304129Z",
     "start_time": "2025-01-27T06:34:49.123406Z"
    }
   },
   "outputs": [
    {
     "name": "stdout",
     "output_type": "stream",
     "text": [
      "Features for general combination similarity normalized.\n"
     ]
    }
   ],
   "source": [
    "##%% General Combination Features\n",
    "selected_features_combined = ['popularity_normalized', 'vote_average_normalized', 'budget_normalized', 'runtime_normalized']\n",
    "\n",
    "# Combine with encoded genres\n",
    "features_combined = pd.concat([df[selected_features_combined], encoded_genres_df], axis=1)\n",
    "\n",
    "# Normalize the combined features\n",
    "normalized_features_combined = scaler.fit_transform(features_combined)\n",
    "print(\"Features for general combination similarity normalized.\")\n"
   ]
  },
  {
   "cell_type": "markdown",
   "id": "9706c85f16dc2c28",
   "metadata": {},
   "source": [
    "# Features: Temporal analysis (pure)\n",
    "# Features: release_year, release_season"
   ]
  },
  {
   "cell_type": "code",
   "execution_count": 9,
   "id": "461d2e87f48d6063",
   "metadata": {
    "ExecuteTime": {
     "end_time": "2025-01-27T06:34:51.321389Z",
     "start_time": "2025-01-27T06:34:51.305135Z"
    }
   },
   "outputs": [
    {
     "name": "stdout",
     "output_type": "stream",
     "text": [
      "Features for temporal analysis normalized.\n"
     ]
    }
   ],
   "source": [
    "##%% Temporal Analysis Features (Year and Season)\n",
    "selected_features_time = ['release_year', 'release_season']\n",
    "\n",
    "# One-Hot Encode 'release_season' (categorical feature)\n",
    "encoded_season = onehot_encoder.fit_transform(df[['release_season']])\n",
    "encoded_season_df = pd.DataFrame(\n",
    "    encoded_season, columns=onehot_encoder.get_feature_names_out(['release_season'])\n",
    ")\n",
    "\n",
    "# Combine numerical features with encoded seasons\n",
    "features_time = pd.concat([df[['release_year']], encoded_season_df], axis=1)\n",
    "\n",
    "# Normalize the features\n",
    "normalized_features_time = scaler.fit_transform(features_time)\n",
    "print(\"Features for temporal analysis normalized.\")"
   ]
  },
  {
   "cell_type": "markdown",
   "id": "a656a0e2baeb92a1",
   "metadata": {},
   "source": [
    "# Features: Temporal and content analysis\n",
    "# Features: release_year, release_season, genres, runtime_normalized\n"
   ]
  },
  {
   "cell_type": "code",
   "execution_count": 10,
   "id": "f03a1962",
   "metadata": {
    "ExecuteTime": {
     "end_time": "2025-01-27T06:34:53.502650Z",
     "start_time": "2025-01-27T06:34:51.321389Z"
    }
   },
   "outputs": [
    {
     "name": "stdout",
     "output_type": "stream",
     "text": [
      "Features for temporal and content analysis normalized.\n"
     ]
    }
   ],
   "source": [
    "##%% Temporal and Content Analysis Features\n",
    "selected_features_time_content = ['release_year', 'runtime_normalized']\n",
    "\n",
    "# Combine temporal and content features\n",
    "features_time_content = pd.concat([df[selected_features_time_content], encoded_season_df, encoded_genres_df], axis=1)\n",
    "\n",
    "# Normalize the features\n",
    "normalized_features_time_content = scaler.fit_transform(features_time_content)\n",
    "print(\"Features for temporal and content analysis normalized.\")\n"
   ]
  },
  {
   "cell_type": "markdown",
   "id": "3848aa22",
   "metadata": {},
   "source": [
    "# Features: Temporal and commercial analysis\n",
    "# Features: release_year, release_season, budget_normalized, revenue_normalized, popularity_normalized\n"
   ]
  },
  {
   "cell_type": "code",
   "execution_count": 11,
   "id": "5aeb8fd8",
   "metadata": {
    "ExecuteTime": {
     "end_time": "2025-01-27T06:34:53.513879Z",
     "start_time": "2025-01-27T06:34:53.503657Z"
    }
   },
   "outputs": [
    {
     "name": "stdout",
     "output_type": "stream",
     "text": [
      "Features for temporal and commercial analysis normalized.\n"
     ]
    }
   ],
   "source": [
    "##%% Temporal and Commercial Analysis Features\n",
    "selected_features_time_commercial = ['release_year', 'budget_normalized', 'revenue_normalized', 'popularity_normalized']\n",
    "\n",
    "# Combine temporal and commercial features\n",
    "features_time_commercial = pd.concat([df[selected_features_time_commercial], encoded_season_df], axis=1)\n",
    "\n",
    "# Normalize the features\n",
    "normalized_features_time_commercial = scaler.fit_transform(features_time_commercial)\n",
    "print(\"Features for temporal and commercial analysis normalized.\")\n"
   ]
  },
  {
   "cell_type": "markdown",
   "id": "ccc895dd",
   "metadata": {},
   "source": [
    "# K-Means Clustering: With Hyperparameter Tuning\n",
    "# Perform K-Means clustering on the selected feature sets and find the optimal number of clusters.\n"
   ]
  },
  {
   "cell_type": "code",
   "execution_count": 12,
   "id": "f888d5e7",
   "metadata": {
    "ExecuteTime": {
     "end_time": "2025-01-27T06:45:17.200982Z",
     "start_time": "2025-01-27T06:34:53.514894Z"
    }
   },
   "outputs": [
    {
     "name": "stdout",
     "output_type": "stream",
     "text": [
      "Running K-Means for k=2...\n",
      "Running K-Means for k=3...\n",
      "Running K-Means for k=4...\n",
      "Running K-Means for k=5...\n",
      "Running K-Means for k=6...\n",
      "Running K-Means for k=7...\n",
      "Running K-Means for k=8...\n",
      "Running K-Means for k=9...\n",
      "Running K-Means for k=10...\n"
     ]
    },
    {
     "data": {
      "image/png": "[encoded data removed]",
      "text/plain": [
       "<Figure size 800x500 with 1 Axes>"
      ]
     },
     "metadata": {},
     "output_type": "display_data"
    },
    {
     "data": {
      "image/png": "[encoded data removed]",
      "text/plain": [
       "<Figure size 800x500 with 1 Axes>"
      ]
     },
     "metadata": {},
     "output_type": "display_data"
    },
    {
     "name": "stdout",
     "output_type": "stream",
     "text": [
      "K-Means clustering completed with optimal k = 4\n"
     ]
    }
   ],
   "source": [
    "# Function to perform K-Means clustering and evaluate with Silhouette Score\n",
    "def kmeans_tuning_optimized(normalized_features, max_k=10, sample_size=1000):\n",
    "    inertia = []\n",
    "    silhouette_scores = []\n",
    "    k_values = range(2, max_k + 1)\n",
    "    \n",
    "    # Use a sample of the data for silhouette scoring to improve performance\n",
    "    if len(normalized_features) > sample_size:\n",
    "        sample_indices = np.random.choice(len(normalized_features), size=sample_size, replace=False)\n",
    "        sample_features = normalized_features[sample_indices]\n",
    "    else:\n",
    "        sample_features = normalized_features\n",
    "\n",
    "    for k in k_values:\n",
    "        print(f\"Running K-Means for k={k}...\")\n",
    "        kmeans = KMeans(n_clusters=k, random_state=42)\n",
    "        kmeans.fit(normalized_features)\n",
    "        inertia.append(kmeans.inertia_)\n",
    "        \n",
    "        # Compute silhouette score only if more than one cluster exists\n",
    "        if k > 1:\n",
    "            score = silhouette_score(sample_features, kmeans.predict(sample_features))\n",
    "            silhouette_scores.append(score)\n",
    "        else:\n",
    "            silhouette_scores.append(None)\n",
    "    \n",
    "    # Plot Elbow Method (Inertia)\n",
    "    plt.figure(figsize=(8, 5))\n",
    "    plt.plot(k_values, inertia, marker='o')\n",
    "    plt.title(\"Elbow Method for Optimal K\")\n",
    "    plt.xlabel(\"Number of Clusters (k)\")\n",
    "    plt.ylabel(\"Inertia\")\n",
    "    plt.show()\n",
    "    \n",
    "    # Plot Silhouette Scores\n",
    "    plt.figure(figsize=(8, 5))\n",
    "    plt.plot(k_values, silhouette_scores, marker='o')\n",
    "    plt.title(\"Silhouette Scores for K\")\n",
    "    plt.xlabel(\"Number of Clusters (k)\")\n",
    "    plt.ylabel(\"Silhouette Score\")\n",
    "    plt.show()\n",
    "    \n",
    "    return k_values, inertia, silhouette_scores\n",
    "\n",
    "# Run K-Means tuning for a selected feature set\n",
    "k_values, inertia, silhouette_scores = kmeans_tuning_optimized(normalized_features_combined, max_k=10)\n",
    "\n",
    "# Choose optimal k based on the plots\n",
    "optimal_k = 4  # Replace with the observed best value from the Elbow/Silhouette plots\n",
    "kmeans = KMeans(n_clusters=optimal_k, random_state=42)\n",
    "df['kmeans_cluster'] = kmeans.fit_predict(normalized_features_combined)\n",
    "print(\"K-Means clustering completed with optimal k =\", optimal_k)"
   ]
  },
  {
   "cell_type": "markdown",
   "id": "00d9662e",
   "metadata": {},
   "source": [
    "# DBSCAN Clustering: Testing multiple parameter sets\n",
    "# Perform DBSCAN clustering with different values for `eps` and `min_samples`.\n"
   ]
  },
  {
   "cell_type": "code",
   "execution_count": null,
   "id": "145e5cc0",
   "metadata": {
    "ExecuteTime": {
     "end_time": "2025-01-27T06:45:17.202494Z",
     "start_time": "2025-01-27T06:45:17.201487Z"
    }
   },
   "outputs": [],
   "source": [
    "def dbscan_parameter_testing_optimized(normalized_features, eps_values, min_samples_values, sample_size=1000):\n",
    "    # Use a sample of the data for silhouette scoring to improve performance\n",
    "    if len(normalized_features) > sample_size:\n",
    "        sample_indices = np.random.choice(len(normalized_features), size=sample_size, replace=False)\n",
    "        sample_features = normalized_features[sample_indices]\n",
    "    else:\n",
    "        sample_features = normalized_features\n",
    "\n",
    "    results = []\n",
    "    for eps in eps_values:\n",
    "        for min_samples in min_samples_values:\n",
    "            dbscan = DBSCAN(eps=eps, min_samples=min_samples)\n",
    "            labels = dbscan.fit_predict(normalized_features)\n",
    "            n_clusters = len(set(labels)) - (1 if -1 in labels else 0)  # Exclude noise points\n",
    "            \n",
    "            # Compute Silhouette Score only if there are >1 clusters\n",
    "            silhouette = (\n",
    "                silhouette_score(sample_features, labels[sample_indices]) if n_clusters > 1 else \"Not applicable\"\n",
    "            )\n",
    "            results.append((eps, min_samples, n_clusters, silhouette))\n",
    "            print(f\"DBSCAN with eps={eps}, min_samples={min_samples}:\")\n",
    "            print(f\"  Number of clusters: {n_clusters}\")\n",
    "            print(f\"  Silhouette Score: {silhouette}\")\n",
    "            print()\n",
    "    return results\n",
    "\n",
    "# Test multiple values for eps and min_samples\n",
    "eps_values = [0.3, 0.5, 0.7]\n",
    "min_samples_values = [5, 10, 15]\n",
    "dbscan_results = dbscan_parameter_testing_optimized(normalized_features_combined, eps_values, min_samples_values)\n",
    "\n",
    "# Select the best parameters from results (manual or based on analysis of results)\n",
    "best_eps = 0.5  # Replace with the best value from printed results\n",
    "best_min_samples = 10  # Replace with the best value from printed results\n",
    "\n",
    "# Final DBSCAN with chosen parameters\n",
    "dbscan = DBSCAN(eps=best_eps, min_samples=best_min_samples)\n",
    "df['dbscan_cluster'] = dbscan.fit_predict(normalized_features_combined)\n",
    "print(\"DBSCAN clustering completed with best parameters.\")\n"
   ]
  },
  {
   "cell_type": "markdown",
   "id": "8a467279",
   "metadata": {},
   "source": [
    "# Cluster Evaluation and Visualization\n",
    "# Analyze cluster patterns, visualize clusters, and evaluate with metrics.\n"
   ]
  },
  {
   "cell_type": "code",
   "execution_count": null,
   "id": "5cab4d58",
   "metadata": {
    "ExecuteTime": {
     "end_time": "2025-01-27T06:45:17.203495Z",
     "start_time": "2025-01-27T06:45:17.202494Z"
    }
   },
   "outputs": [],
   "source": [
    "##%% Cluster Analysis and Visualization\n",
    "from sklearn.decomposition import PCA\n",
    "\n",
    "# Reduce dimensions for visualization\n",
    "pca = PCA(n_components=2)\n",
    "reduced_features = pca.fit_transform(normalized_features_combined)\n",
    "\n",
    "# Visualize K-Means Clusters\n",
    "plt.figure(figsize=(8, 5))\n",
    "sns.scatterplot(x=reduced_features[:, 0], y=reduced_features[:, 1], hue=df['kmeans_cluster'], palette=\"Set2\")\n",
    "plt.title(\"K-Means Clusters Visualization\")\n",
    "plt.xlabel(\"PCA Component 1\")\n",
    "plt.ylabel(\"PCA Component 2\")\n",
    "plt.legend(title=\"Cluster\")\n",
    "plt.show()\n",
    "\n",
    "# Visualize DBSCAN Clusters\n",
    "plt.figure(figsize=(8, 5))\n",
    "sns.scatterplot(x=reduced_features[:, 0], y=reduced_features[:, 1], hue=df['dbscan_cluster'], palette=\"Set1\")\n",
    "plt.title(\"DBSCAN Clusters Visualization\")\n",
    "plt.xlabel(\"PCA Component 1\")\n",
    "plt.ylabel(\"PCA Component 2\")\n",
    "plt.legend(title=\"Cluster\")\n",
    "plt.show()\n"
   ]
  },
  {
   "cell_type": "markdown",
   "id": "78915bc2",
   "metadata": {},
   "source": [
    "# Analyze Patterns in Clusters\n",
    "# Group the data by clusters and extract patterns based on features.\n"
   ]
  },
  {
   "cell_type": "code",
   "execution_count": null,
   "id": "a7586fc5",
   "metadata": {
    "ExecuteTime": {
     "end_time": "2025-01-27T06:45:17.204495Z",
     "start_time": "2025-01-27T06:45:17.203495Z"
    }
   },
   "outputs": [],
   "source": [
    "##%% Analyze Patterns in Clusters\n",
    "cluster_analysis_kmeans = df.groupby('kmeans_cluster').agg({\n",
    "    'genres': lambda x: x.value_counts().index[0],  # Most frequent genre\n",
    "    'popularity_normalized': 'mean',              # Average popularity\n",
    "    'budget_normalized': 'mean',                  # Average budget\n",
    "    'revenue_normalized': 'mean',                 # Average revenue\n",
    "    'runtime_normalized': 'mean',                 # Average runtime\n",
    "    'release_year': ['min', 'max']                # Range of release years\n",
    "})\n",
    "print(\"K-Means Cluster Analysis:\")\n",
    "print(cluster_analysis_kmeans)\n",
    "\n",
    "cluster_analysis_dbscan = df[df['dbscan_cluster'] != -1].groupby('dbscan_cluster').agg({\n",
    "    'genres': lambda x: x.value_counts().index[0],  # Most frequent genre\n",
    "    'popularity_normalized': 'mean',              # Average popularity\n",
    "    'budget_normalized': 'mean',                  # Average budget\n",
    "    'revenue_normalized': 'mean',                 # Average revenue\n",
    "    'runtime_normalized': 'mean',                 # Average runtime\n",
    "    'release_year': ['min', 'max']                # Range of release years\n",
    "})\n",
    "print(\"DBSCAN Cluster Analysis:\")\n",
    "print(cluster_analysis_dbscan)\n"
   ]
  }
 ],
 "metadata": {
  "kernelspec": {
   "display_name": "Python 3",
   "language": "python",
   "name": "python3"
  },
  "language_info": {
   "codemirror_mode": {
    "name": "ipython",
    "version": 3
   },
   "file_extension": ".py",
   "mimetype": "text/x-python",
   "name": "python",
   "nbconvert_exporter": "python",
   "pygments_lexer": "ipython3",
   "version": "3.12.4"
  }
 },
 "nbformat": 4,
 "nbformat_minor": 5
}
